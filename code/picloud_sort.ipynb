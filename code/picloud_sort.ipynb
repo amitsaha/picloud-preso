{
 "metadata": {
  "name": "picloud-sort"
 }, 
 "name": "picloud-sort", 
 "nbformat": 2, 
 "worksheets": [
  {
   "cells": [
    {
     "cell_type": "code", 
     "collapsed": false, 
     "input": "import cloud\nimport numpy\n \ndef sort_num(num):\n    sort_num = numpy.sort(num)\n    return sort_num\n\nif __name__ == '__main__':\n    num=numpy.random.random_integers(10,10000,50)\n    print num\n    jid=cloud.call(sort_num, num)\n    print cloud.result(jid)", 
     "language": "python", 
     "outputs": [
      {
       "output_type": "stream", 
       "stream": "stdout", 
       "text": "[3142 4667 1370 8706 6403   81 8574 1300 3856 9571 2753 2107 4795 9099  292\n 6806 4953 1143 6639  991 6139 6737 2765 5381 2129 3458 9238 7512 6353 7383\n 1902 4985  723 4774 1291 9408  809 9043 3287 3804  392 8232 5253 7045  846\n 9342 1030 8082 1041 8593]\n[  81  292  392  723  809  846  991 1030 1041 1143 1291 1300 1370 1902 2107\n 2129 2753 2765 3142 3287 3458 3804 3856 4667 4774 4795 4953 4985 5253 5381\n 6139 6353 6403 6639 6737 6806 7045 7383 7512 8082 8232 8574 8593 8706 9043\n 9099 9238 9342 9408 9571]"
      }, 
      {
       "output_type": "stream", 
       "stream": "stdout", 
       "text": ""
      }
     ], 
     "prompt_number": 2
    }, 
    {
     "cell_type": "code", 
     "collapsed": true, 
     "input": "", 
     "language": "python", 
     "outputs": [], 
     "prompt_number": "&nbsp;"
    }
   ]
  }
 ]
}