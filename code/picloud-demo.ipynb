{
 "metadata": {
  "name": "picloud-demo"
 }, 
 "name": "picloud-demo", 
 "nbformat": 2, 
 "worksheets": [
  {
   "cells": [
    {
     "cell_type": "code", 
     "collapsed": true, 
     "input": "def square(x):\n    return x*x\n\n# demonstration of cloud.call()\nimport cloud\njid = cloud.call(square,3)\n\nprint 'Job Id::', jid\nprint 'Job status',cloud.status(jid)\n\nprint 'Result',cloud.result(jid)\n\n# demonstration of cloud.map()\nx=[1,10,-5,200,1000,100]\njids = cloud.map(square, x)\n\nfor jid in jids:\n    print cloud.status(jid)\n    \n# get all the results\nresults = [cloud.result(jid) for jid in jids]\n\nprint results\n", 
     "language": "python", 
     "outputs": [], 
     "prompt_number": "&nbsp;"
    }, 
    {
     "cell_type": "code", 
     "collapsed": true, 
     "input": "", 
     "language": "python", 
     "outputs": [], 
     "prompt_number": "&nbsp;"
    }
   ]
  }
 ]
}